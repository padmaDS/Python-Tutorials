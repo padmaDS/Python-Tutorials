{
 "cells": [
  {
   "cell_type": "code",
   "execution_count": 7,
   "id": "e9f59200",
   "metadata": {},
   "outputs": [
    {
     "name": "stdout",
     "output_type": "stream",
     "text": [
      "Twinkle, twinkle, little star, \n",
      "\tHow I wonder what you are! \n",
      "\t\tUp above the world so high, \n",
      "\t\tLike a diamond in the sky. \n",
      "Twinkle, twinkle, little star, \n",
      "\tHow I wonder what you are!\n"
     ]
    }
   ],
   "source": [
    "print(\"Twinkle, twinkle, little star, \\n\\tHow I wonder what you are! \\n\\t\\tUp above the world so high, \\n\\t\\tLike a diamond in the sky. \\nTwinkle, twinkle, little star, \\n\\tHow I wonder what you are!\")\n"
   ]
  },
  {
   "cell_type": "code",
   "execution_count": null,
   "id": "7597b082",
   "metadata": {},
   "outputs": [],
   "source": [
    "Twinkle, twinkle, little star,\n",
    "\tHow I wonder what you are! \n",
    "\t\tUp above the world so high,   \t\t\n",
    "\t\tLike a diamond in the sky. \n",
    "Twinkle, twinkle, little star, \n",
    "\tHow I wonder what you are!\n",
    " "
   ]
  },
  {
   "cell_type": "code",
   "execution_count": 18,
   "id": "b4cf86ae",
   "metadata": {},
   "outputs": [
    {
     "name": "stdout",
     "output_type": "stream",
     "text": [
      "Twinkle, twinkle, little star, \n",
      "\tHow I wonder what you are! \n",
      "\t\tUp above the world so high, \n",
      "\t\tLike a diamond in the sky. \n",
      "Twinkle, twinkle, little star, \n",
      "How I wonder what you are!\n"
     ]
    }
   ],
   "source": [
    "print(\"Twinkle, twinkle, little star, \\n\\tHow I wonder what you are! \\n\\t\\tUp above the world so high, \\n\\t\\tLike a diamond in the sky. \\nTwinkle, twinkle, little star, \\nHow I wonder what you are!\")"
   ]
  },
  {
   "cell_type": "code",
   "execution_count": 21,
   "id": "aa7d7c49",
   "metadata": {},
   "outputs": [],
   "source": [
    "import sys"
   ]
  },
  {
   "cell_type": "code",
   "execution_count": 24,
   "id": "d0bd61ed",
   "metadata": {},
   "outputs": [
    {
     "name": "stdout",
     "output_type": "stream",
     "text": [
      "python version is : 3.9.12 (main, Apr  4 2022, 05:22:27) [MSC v.1916 64 bit (AMD64)]\n"
     ]
    }
   ],
   "source": [
    "print(\"python version is :\" , sys.version)"
   ]
  },
  {
   "cell_type": "code",
   "execution_count": 25,
   "id": "3dd5b8f3",
   "metadata": {},
   "outputs": [
    {
     "name": "stdout",
     "output_type": "stream",
     "text": [
      "python version is : sys.version_info(major=3, minor=9, micro=12, releaselevel='final', serial=0)\n"
     ]
    }
   ],
   "source": [
    "print(\"python version is :\" , sys.version_info)"
   ]
  },
  {
   "cell_type": "code",
   "execution_count": 28,
   "id": "78fc5017",
   "metadata": {},
   "outputs": [
    {
     "name": "stdout",
     "output_type": "stream",
     "text": [
      "python version is :  3.9.12\n"
     ]
    }
   ],
   "source": [
    "import platform\n",
    "print('python version is : ', platform.python_version())"
   ]
  },
  {
   "cell_type": "code",
   "execution_count": 31,
   "id": "860ef397",
   "metadata": {},
   "outputs": [
    {
     "name": "stdout",
     "output_type": "stream",
     "text": [
      "2023-06-01 17:32:47.320021\n"
     ]
    }
   ],
   "source": [
    "import datetime\n",
    "now = datetime.datetime.now()\n",
    "print(now)"
   ]
  },
  {
   "cell_type": "code",
   "execution_count": 32,
   "id": "c989f458",
   "metadata": {},
   "outputs": [
    {
     "name": "stdout",
     "output_type": "stream",
     "text": [
      "radius of the circle is 42\n",
      "area of the circle with radius  5541.769440932395\n"
     ]
    }
   ],
   "source": [
    "from math import pi\n",
    "r = float(input('radius of the circle is '))\n",
    "print('area of the circle with radius ', pi* r**2)\n"
   ]
  },
  {
   "cell_type": "code",
   "execution_count": 39,
   "id": "6d3c7e63",
   "metadata": {},
   "outputs": [
    {
     "name": "stdout",
     "output_type": "stream",
     "text": [
      "hello  padma vathi\n"
     ]
    }
   ],
   "source": [
    "fname = 'padma'\n",
    "lname = 'vathi'\n",
    "print(\"hello  \" + fname  + ' ' +lname)"
   ]
  },
  {
   "cell_type": "code",
   "execution_count": 40,
   "id": "de894e2c",
   "metadata": {},
   "outputs": [
    {
     "name": "stdout",
     "output_type": "stream",
     "text": [
      "padma   vathi\n"
     ]
    }
   ],
   "source": [
    "fname = 'padma   '\n",
    "lname = 'vathi'\n",
    "print(fname  +lname)"
   ]
  },
  {
   "cell_type": "code",
   "execution_count": 41,
   "id": "3f72d9d2",
   "metadata": {},
   "outputs": [
    {
     "name": "stdout",
     "output_type": "stream",
     "text": [
      "padma      vathi\n"
     ]
    }
   ],
   "source": [
    "fname = 'padma   '\n",
    "lname = '   vathi'\n",
    "print(fname  +lname)"
   ]
  },
  {
   "cell_type": "code",
   "execution_count": 49,
   "id": "849f0ead",
   "metadata": {},
   "outputs": [
    {
     "name": "stdout",
     "output_type": "stream",
     "text": [
      "enter the comma seperated values,4,5,2,7,5,75,,75,785,\n",
      "list of values are : ['', '4', '5', '2', '7', '5', '75', '', '75', '785', '']\n",
      "tuples are : ('', '4', '5', '2', '7', '5', '75', '', '75', '785', '')\n"
     ]
    }
   ],
   "source": [
    "values = input('enter the comma seperated values')\n",
    "list = values.split(',')\n",
    "tuples = tuple(list)\n",
    "print('list of values are :' , list)\n",
    "print('tuples are :',  tuples)"
   ]
  },
  {
   "cell_type": "code",
   "execution_count": 57,
   "id": "60dbdd66",
   "metadata": {},
   "outputs": [
    {
     "name": "stdout",
     "output_type": "stream",
     "text": [
      "please enter the input : baby.ds\n",
      "'ds'\n"
     ]
    }
   ],
   "source": [
    "filename = input('please enter the input : ')\n",
    "f_extns = filename.split('.')\n",
    "print(repr(f_extns[-1]))\n"
   ]
  },
  {
   "cell_type": "markdown",
   "id": "61db31bd",
   "metadata": {},
   "source": [
    "Write a Python program to display the first and last colors from the following list.\n",
    "\n",
    "color_list = [\"Red\",\"Green\",\"White\" ,\"Black\"]"
   ]
  },
  {
   "cell_type": "code",
   "execution_count": 59,
   "id": "de6e8182",
   "metadata": {},
   "outputs": [
    {
     "name": "stdout",
     "output_type": "stream",
     "text": [
      "Red Black\n"
     ]
    }
   ],
   "source": [
    "color_list = [\"Red\",\"Green\",\"White\" ,\"Black\"]\n",
    "\n",
    "print(color_list[0], color_list[-1])"
   ]
  },
  {
   "cell_type": "code",
   "execution_count": null,
   "id": "9b3d37c9",
   "metadata": {},
   "outputs": [],
   "source": []
  }
 ],
 "metadata": {
  "kernelspec": {
   "display_name": "Python 3 (ipykernel)",
   "language": "python",
   "name": "python3"
  },
  "language_info": {
   "codemirror_mode": {
    "name": "ipython",
    "version": 3
   },
   "file_extension": ".py",
   "mimetype": "text/x-python",
   "name": "python",
   "nbconvert_exporter": "python",
   "pygments_lexer": "ipython3",
   "version": "3.9.12"
  }
 },
 "nbformat": 4,
 "nbformat_minor": 5
}
